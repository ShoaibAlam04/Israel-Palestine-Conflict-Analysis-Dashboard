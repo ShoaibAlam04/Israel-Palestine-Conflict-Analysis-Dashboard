{
 "cells": [
  {
   "cell_type": "code",
   "execution_count": 2,
   "id": "86ab4b63",
   "metadata": {},
   "outputs": [],
   "source": [
    "import pandas as pd"
   ]
  },
  {
   "cell_type": "code",
   "execution_count": 3,
   "id": "726ffacb",
   "metadata": {},
   "outputs": [],
   "source": [
    "df = pd.read_csv(\"C:/Users/LENOVO/Downloads/Python-Dashboard-Isreal-Palestian-Conflict-analysis-main/Python-Dashboard-Isreal-Palestian-Conflict-analysis-main/fatalities.csv\")"
   ]
  },
  {
   "cell_type": "code",
   "execution_count": 4,
   "id": "32e2348d",
   "metadata": {},
   "outputs": [
    {
     "data": {
      "text/html": [
       "<div>\n",
       "<style scoped>\n",
       "    .dataframe tbody tr th:only-of-type {\n",
       "        vertical-align: middle;\n",
       "    }\n",
       "\n",
       "    .dataframe tbody tr th {\n",
       "        vertical-align: top;\n",
       "    }\n",
       "\n",
       "    .dataframe thead th {\n",
       "        text-align: right;\n",
       "    }\n",
       "</style>\n",
       "<table border=\"1\" class=\"dataframe\">\n",
       "  <thead>\n",
       "    <tr style=\"text-align: right;\">\n",
       "      <th></th>\n",
       "      <th>name</th>\n",
       "      <th>date_of_event</th>\n",
       "      <th>age</th>\n",
       "      <th>citizenship</th>\n",
       "      <th>event_location</th>\n",
       "      <th>event_location_district</th>\n",
       "      <th>event_location_region</th>\n",
       "      <th>date_of_death</th>\n",
       "      <th>gender</th>\n",
       "      <th>took_part_in_the_hostilities</th>\n",
       "      <th>place_of_residence</th>\n",
       "      <th>place_of_residence_district</th>\n",
       "      <th>type_of_injury</th>\n",
       "      <th>ammunition</th>\n",
       "      <th>killed_by</th>\n",
       "      <th>notes</th>\n",
       "    </tr>\n",
       "  </thead>\n",
       "  <tbody>\n",
       "    <tr>\n",
       "      <th>0</th>\n",
       "      <td>'Abd a-Rahman Suleiman Muhammad Abu Daghash</td>\n",
       "      <td>2023-09-24</td>\n",
       "      <td>32.0</td>\n",
       "      <td>Palestinian</td>\n",
       "      <td>Nur Shams R.C.</td>\n",
       "      <td>Tulkarm</td>\n",
       "      <td>West Bank</td>\n",
       "      <td>2023-09-24</td>\n",
       "      <td>M</td>\n",
       "      <td>NaN</td>\n",
       "      <td>Nur Shams R.C.</td>\n",
       "      <td>Tulkarm</td>\n",
       "      <td>gunfire</td>\n",
       "      <td>live ammunition</td>\n",
       "      <td>Israeli security forces</td>\n",
       "      <td>Fatally shot by Israeli forces while standing ...</td>\n",
       "    </tr>\n",
       "    <tr>\n",
       "      <th>1</th>\n",
       "      <td>Usayed Farhan Muhammad 'Ali Abu 'Ali</td>\n",
       "      <td>2023-09-24</td>\n",
       "      <td>21.0</td>\n",
       "      <td>Palestinian</td>\n",
       "      <td>Nur Shams R.C.</td>\n",
       "      <td>Tulkarm</td>\n",
       "      <td>West Bank</td>\n",
       "      <td>2023-09-24</td>\n",
       "      <td>M</td>\n",
       "      <td>NaN</td>\n",
       "      <td>Nur Shams R.C.</td>\n",
       "      <td>Tulkarm</td>\n",
       "      <td>gunfire</td>\n",
       "      <td>live ammunition</td>\n",
       "      <td>Israeli security forces</td>\n",
       "      <td>Fatally shot by Israeli forces while trying to...</td>\n",
       "    </tr>\n",
       "    <tr>\n",
       "      <th>2</th>\n",
       "      <td>'Abdallah 'Imad Sa'ed Abu Hassan</td>\n",
       "      <td>2023-09-22</td>\n",
       "      <td>16.0</td>\n",
       "      <td>Palestinian</td>\n",
       "      <td>Kfar Dan</td>\n",
       "      <td>Jenin</td>\n",
       "      <td>West Bank</td>\n",
       "      <td>2023-09-22</td>\n",
       "      <td>M</td>\n",
       "      <td>NaN</td>\n",
       "      <td>al-Yamun</td>\n",
       "      <td>Jenin</td>\n",
       "      <td>gunfire</td>\n",
       "      <td>live ammunition</td>\n",
       "      <td>Israeli security forces</td>\n",
       "      <td>Fatally shot by soldiers while firing at them ...</td>\n",
       "    </tr>\n",
       "    <tr>\n",
       "      <th>3</th>\n",
       "      <td>Durgham Muhammad Yihya al-Akhras</td>\n",
       "      <td>2023-09-20</td>\n",
       "      <td>19.0</td>\n",
       "      <td>Palestinian</td>\n",
       "      <td>'Aqbat Jaber R.C.</td>\n",
       "      <td>Jericho</td>\n",
       "      <td>West Bank</td>\n",
       "      <td>2023-09-20</td>\n",
       "      <td>M</td>\n",
       "      <td>NaN</td>\n",
       "      <td>'Aqbat Jaber R.C.</td>\n",
       "      <td>Jericho</td>\n",
       "      <td>gunfire</td>\n",
       "      <td>live ammunition</td>\n",
       "      <td>Israeli security forces</td>\n",
       "      <td>Shot in the head by Israeli forces while throw...</td>\n",
       "    </tr>\n",
       "    <tr>\n",
       "      <th>4</th>\n",
       "      <td>Raafat 'Omar Ahmad Khamaisah</td>\n",
       "      <td>2023-09-19</td>\n",
       "      <td>15.0</td>\n",
       "      <td>Palestinian</td>\n",
       "      <td>Jenin R.C.</td>\n",
       "      <td>Jenin</td>\n",
       "      <td>West Bank</td>\n",
       "      <td>2023-09-19</td>\n",
       "      <td>M</td>\n",
       "      <td>NaN</td>\n",
       "      <td>Jenin</td>\n",
       "      <td>Jenin</td>\n",
       "      <td>gunfire</td>\n",
       "      <td>live ammunition</td>\n",
       "      <td>Israeli security forces</td>\n",
       "      <td>Wounded by soldiers’ gunfire after running awa...</td>\n",
       "    </tr>\n",
       "  </tbody>\n",
       "</table>\n",
       "</div>"
      ],
      "text/plain": [
       "                                          name date_of_event   age  \\\n",
       "0  'Abd a-Rahman Suleiman Muhammad Abu Daghash    2023-09-24  32.0   \n",
       "1         Usayed Farhan Muhammad 'Ali Abu 'Ali    2023-09-24  21.0   \n",
       "2             'Abdallah 'Imad Sa'ed Abu Hassan    2023-09-22  16.0   \n",
       "3             Durgham Muhammad Yihya al-Akhras    2023-09-20  19.0   \n",
       "4                 Raafat 'Omar Ahmad Khamaisah    2023-09-19  15.0   \n",
       "\n",
       "   citizenship     event_location event_location_district  \\\n",
       "0  Palestinian     Nur Shams R.C.                 Tulkarm   \n",
       "1  Palestinian     Nur Shams R.C.                 Tulkarm   \n",
       "2  Palestinian           Kfar Dan                   Jenin   \n",
       "3  Palestinian  'Aqbat Jaber R.C.                 Jericho   \n",
       "4  Palestinian         Jenin R.C.                   Jenin   \n",
       "\n",
       "  event_location_region date_of_death gender took_part_in_the_hostilities  \\\n",
       "0             West Bank    2023-09-24      M                          NaN   \n",
       "1             West Bank    2023-09-24      M                          NaN   \n",
       "2             West Bank    2023-09-22      M                          NaN   \n",
       "3             West Bank    2023-09-20      M                          NaN   \n",
       "4             West Bank    2023-09-19      M                          NaN   \n",
       "\n",
       "  place_of_residence place_of_residence_district type_of_injury  \\\n",
       "0     Nur Shams R.C.                     Tulkarm        gunfire   \n",
       "1     Nur Shams R.C.                     Tulkarm        gunfire   \n",
       "2           al-Yamun                       Jenin        gunfire   \n",
       "3  'Aqbat Jaber R.C.                     Jericho        gunfire   \n",
       "4              Jenin                       Jenin        gunfire   \n",
       "\n",
       "        ammunition                killed_by  \\\n",
       "0  live ammunition  Israeli security forces   \n",
       "1  live ammunition  Israeli security forces   \n",
       "2  live ammunition  Israeli security forces   \n",
       "3  live ammunition  Israeli security forces   \n",
       "4  live ammunition  Israeli security forces   \n",
       "\n",
       "                                               notes  \n",
       "0  Fatally shot by Israeli forces while standing ...  \n",
       "1  Fatally shot by Israeli forces while trying to...  \n",
       "2  Fatally shot by soldiers while firing at them ...  \n",
       "3  Shot in the head by Israeli forces while throw...  \n",
       "4  Wounded by soldiers’ gunfire after running awa...  "
      ]
     },
     "execution_count": 4,
     "metadata": {},
     "output_type": "execute_result"
    }
   ],
   "source": [
    "df.head()"
   ]
  },
  {
   "cell_type": "code",
   "execution_count": 5,
   "id": "a15bc97b",
   "metadata": {},
   "outputs": [],
   "source": [
    "citizenship_counts = df['citizenship'].value_counts()\n",
    "event_location_region = df['event_location_region'].value_counts()\n",
    "hostilities_counts = df[df['took_part_in_the_hostilities'] == 'Yes']['citizenship'].value_counts()\n",
    "no_hostilities_counts = df[df['took_part_in_the_hostilities'] == 'No']['citizenship'].value_counts()\n",
    "\n",
    "# Number of events\n",
    "num_events = len(df)\n",
    "\n",
    "# Types of weapons used\n",
    "weapons_used = df['ammunition'].value_counts()\n"
   ]
  },
  {
   "cell_type": "code",
   "execution_count": 6,
   "id": "5772d309",
   "metadata": {},
   "outputs": [
    {
     "data": {
      "text/plain": [
       "<AxesSubplot: >"
      ]
     },
     "execution_count": 6,
     "metadata": {},
     "output_type": "execute_result"
    },
    {
     "data": {
      "image/png": "[encoded data removed]",
      "text/plain": [
       "<Figure size 640x480 with 1 Axes>"
      ]
     },
     "metadata": {},
     "output_type": "display_data"
    }
   ],
   "source": [
    "df['type_of_injury'].value_counts().plot(kind='bar')"
   ]
  },
  {
   "cell_type": "code",
   "execution_count": 7,
   "id": "16e97c0a",
   "metadata": {},
   "outputs": [
    {
     "data": {
      "text/plain": [
       "<AxesSubplot: >"
      ]
     },
     "execution_count": 7,
     "metadata": {},
     "output_type": "execute_result"
    },
    {
     "data": {
      "image/png": "[encoded data removed]",
      "text/plain": [
       "<Figure size 640x480 with 1 Axes>"
      ]
     },
     "metadata": {},
     "output_type": "display_data"
    }
   ],
   "source": [
    "df['gender'].value_counts().plot(kind='bar')"
   ]
  },
  {
   "cell_type": "code",
   "execution_count": 8,
   "id": "78519d57",
   "metadata": {},
   "outputs": [
    {
     "data": {
      "text/plain": [
       "count    10995.000000\n",
       "mean        26.745703\n",
       "std         13.780548\n",
       "min          1.000000\n",
       "25%         19.000000\n",
       "50%         23.000000\n",
       "75%         31.000000\n",
       "max        112.000000\n",
       "Name: age, dtype: float64"
      ]
     },
     "execution_count": 8,
     "metadata": {},
     "output_type": "execute_result"
    }
   ],
   "source": [
    "df.age.describe()"
   ]
  },
  {
   "cell_type": "code",
   "execution_count": 9,
   "id": "ada8c736",
   "metadata": {},
   "outputs": [
    {
     "data": {
      "text/plain": [
       "<AxesSubplot: >"
      ]
     },
     "execution_count": 9,
     "metadata": {},
     "output_type": "execute_result"
    },
    {
     "data": {
      "image/png": "[encoded data removed]",
      "text/plain": [
       "<Figure size 640x480 with 1 Axes>"
      ]
     },
     "metadata": {},
     "output_type": "display_data"
    }
   ],
   "source": [
    "df['event_location_region'].value_counts().plot(kind='bar')"
   ]
  },
  {
   "cell_type": "code",
   "execution_count": 10,
   "id": "dbdab464",
   "metadata": {},
   "outputs": [
    {
     "data": {
      "text/plain": [
       "<AxesSubplot: ylabel='place_of_residence'>"
      ]
     },
     "execution_count": 10,
     "metadata": {},
     "output_type": "execute_result"
    },
    {
     "data": {
      "image/png": "[encoded data removed]",
      "text/plain": [
       "<Figure size 640x480 with 1 Axes>"
      ]
     },
     "metadata": {},
     "output_type": "display_data"
    }
   ],
   "source": [
    "df.groupby('event_location_region')['place_of_residence'].nunique().plot(kind='pie')"
   ]
  },
  {
   "cell_type": "code",
   "execution_count": 11,
   "id": "d800c1ba",
   "metadata": {},
   "outputs": [
    {
     "data": {
      "text/plain": [
       "event_location_region\n",
       "Gaza Strip    26.020224\n",
       "Israel        36.286776\n",
       "West Bank     26.421746\n",
       "Name: age, dtype: float64"
      ]
     },
     "execution_count": 11,
     "metadata": {},
     "output_type": "execute_result"
    }
   ],
   "source": [
    "df.groupby('event_location_region')['age'].mean()"
   ]
  },
  {
   "cell_type": "code",
   "execution_count": 12,
   "id": "e3b22d39",
   "metadata": {},
   "outputs": [
    {
     "data": {
      "text/plain": [
       "<AxesSubplot: ylabel='type_of_injury'>"
      ]
     },
     "execution_count": 12,
     "metadata": {},
     "output_type": "execute_result"
    },
    {
     "data": {
      "image/png": "[encoded data removed]",
      "text/plain": [
       "<Figure size 640x480 with 1 Axes>"
      ]
     },
     "metadata": {},
     "output_type": "display_data"
    }
   ],
   "source": [
    "df['type_of_injury'].value_counts().plot(kind='pie')"
   ]
  },
  {
   "cell_type": "code",
   "execution_count": 13,
   "id": "aaf600f1",
   "metadata": {},
   "outputs": [
    {
     "data": {
      "text/html": [
       "<div>\n",
       "<style scoped>\n",
       "    .dataframe tbody tr th:only-of-type {\n",
       "        vertical-align: middle;\n",
       "    }\n",
       "\n",
       "    .dataframe tbody tr th {\n",
       "        vertical-align: top;\n",
       "    }\n",
       "\n",
       "    .dataframe thead th {\n",
       "        text-align: right;\n",
       "    }\n",
       "</style>\n",
       "<table border=\"1\" class=\"dataframe\">\n",
       "  <thead>\n",
       "    <tr style=\"text-align: right;\">\n",
       "      <th></th>\n",
       "      <th>citizenship</th>\n",
       "      <th>incident_count</th>\n",
       "    </tr>\n",
       "  </thead>\n",
       "  <tbody>\n",
       "    <tr>\n",
       "      <th>0</th>\n",
       "      <td>American</td>\n",
       "      <td>1</td>\n",
       "    </tr>\n",
       "    <tr>\n",
       "      <th>1</th>\n",
       "      <td>Israeli</td>\n",
       "      <td>1029</td>\n",
       "    </tr>\n",
       "    <tr>\n",
       "      <th>2</th>\n",
       "      <td>Jordanian</td>\n",
       "      <td>2</td>\n",
       "    </tr>\n",
       "    <tr>\n",
       "      <th>3</th>\n",
       "      <td>Palestinian</td>\n",
       "      <td>10092</td>\n",
       "    </tr>\n",
       "  </tbody>\n",
       "</table>\n",
       "</div>"
      ],
      "text/plain": [
       "   citizenship  incident_count\n",
       "0     American               1\n",
       "1      Israeli            1029\n",
       "2    Jordanian               2\n",
       "3  Palestinian           10092"
      ]
     },
     "execution_count": 13,
     "metadata": {},
     "output_type": "execute_result"
    }
   ],
   "source": [
    "# df.groupby('citizenship').size().reset_index(name='incident_count')\n",
    "def nationality_incident(df):\n",
    "    nationalityIncident = df.groupby('citizenship').size().reset_index(name='incident_count')\n",
    "    return nationalityIncident\n",
    "nationality_incident(df)"
   ]
  },
  {
   "cell_type": "code",
   "execution_count": 14,
   "id": "7f2c0cfe",
   "metadata": {},
   "outputs": [
    {
     "data": {
      "text/html": [
       "<div>\n",
       "<style scoped>\n",
       "    .dataframe tbody tr th:only-of-type {\n",
       "        vertical-align: middle;\n",
       "    }\n",
       "\n",
       "    .dataframe tbody tr th {\n",
       "        vertical-align: top;\n",
       "    }\n",
       "\n",
       "    .dataframe thead th {\n",
       "        text-align: right;\n",
       "    }\n",
       "</style>\n",
       "<table border=\"1\" class=\"dataframe\">\n",
       "  <thead>\n",
       "    <tr style=\"text-align: right;\">\n",
       "      <th></th>\n",
       "      <th>name</th>\n",
       "      <th>date_of_event</th>\n",
       "      <th>age</th>\n",
       "      <th>citizenship</th>\n",
       "      <th>event_location</th>\n",
       "      <th>event_location_district</th>\n",
       "      <th>event_location_region</th>\n",
       "      <th>date_of_death</th>\n",
       "      <th>gender</th>\n",
       "      <th>took_part_in_the_hostilities</th>\n",
       "      <th>place_of_residence</th>\n",
       "      <th>place_of_residence_district</th>\n",
       "      <th>type_of_injury</th>\n",
       "      <th>ammunition</th>\n",
       "      <th>killed_by</th>\n",
       "      <th>notes</th>\n",
       "    </tr>\n",
       "  </thead>\n",
       "  <tbody>\n",
       "    <tr>\n",
       "      <th>0</th>\n",
       "      <td>'Abd a-Rahman Suleiman Muhammad Abu Daghash</td>\n",
       "      <td>2023-09-24</td>\n",
       "      <td>32.0</td>\n",
       "      <td>Palestinian</td>\n",
       "      <td>Nur Shams R.C.</td>\n",
       "      <td>Tulkarm</td>\n",
       "      <td>West Bank</td>\n",
       "      <td>2023-09-24</td>\n",
       "      <td>M</td>\n",
       "      <td>NaN</td>\n",
       "      <td>Nur Shams R.C.</td>\n",
       "      <td>Tulkarm</td>\n",
       "      <td>gunfire</td>\n",
       "      <td>live ammunition</td>\n",
       "      <td>Israeli security forces</td>\n",
       "      <td>Fatally shot by Israeli forces while standing ...</td>\n",
       "    </tr>\n",
       "    <tr>\n",
       "      <th>1</th>\n",
       "      <td>Usayed Farhan Muhammad 'Ali Abu 'Ali</td>\n",
       "      <td>2023-09-24</td>\n",
       "      <td>21.0</td>\n",
       "      <td>Palestinian</td>\n",
       "      <td>Nur Shams R.C.</td>\n",
       "      <td>Tulkarm</td>\n",
       "      <td>West Bank</td>\n",
       "      <td>2023-09-24</td>\n",
       "      <td>M</td>\n",
       "      <td>NaN</td>\n",
       "      <td>Nur Shams R.C.</td>\n",
       "      <td>Tulkarm</td>\n",
       "      <td>gunfire</td>\n",
       "      <td>live ammunition</td>\n",
       "      <td>Israeli security forces</td>\n",
       "      <td>Fatally shot by Israeli forces while trying to...</td>\n",
       "    </tr>\n",
       "    <tr>\n",
       "      <th>2</th>\n",
       "      <td>'Abdallah 'Imad Sa'ed Abu Hassan</td>\n",
       "      <td>2023-09-22</td>\n",
       "      <td>16.0</td>\n",
       "      <td>Palestinian</td>\n",
       "      <td>Kfar Dan</td>\n",
       "      <td>Jenin</td>\n",
       "      <td>West Bank</td>\n",
       "      <td>2023-09-22</td>\n",
       "      <td>M</td>\n",
       "      <td>NaN</td>\n",
       "      <td>al-Yamun</td>\n",
       "      <td>Jenin</td>\n",
       "      <td>gunfire</td>\n",
       "      <td>live ammunition</td>\n",
       "      <td>Israeli security forces</td>\n",
       "      <td>Fatally shot by soldiers while firing at them ...</td>\n",
       "    </tr>\n",
       "    <tr>\n",
       "      <th>3</th>\n",
       "      <td>Durgham Muhammad Yihya al-Akhras</td>\n",
       "      <td>2023-09-20</td>\n",
       "      <td>19.0</td>\n",
       "      <td>Palestinian</td>\n",
       "      <td>'Aqbat Jaber R.C.</td>\n",
       "      <td>Jericho</td>\n",
       "      <td>West Bank</td>\n",
       "      <td>2023-09-20</td>\n",
       "      <td>M</td>\n",
       "      <td>NaN</td>\n",
       "      <td>'Aqbat Jaber R.C.</td>\n",
       "      <td>Jericho</td>\n",
       "      <td>gunfire</td>\n",
       "      <td>live ammunition</td>\n",
       "      <td>Israeli security forces</td>\n",
       "      <td>Shot in the head by Israeli forces while throw...</td>\n",
       "    </tr>\n",
       "    <tr>\n",
       "      <th>4</th>\n",
       "      <td>Raafat 'Omar Ahmad Khamaisah</td>\n",
       "      <td>2023-09-19</td>\n",
       "      <td>15.0</td>\n",
       "      <td>Palestinian</td>\n",
       "      <td>Jenin R.C.</td>\n",
       "      <td>Jenin</td>\n",
       "      <td>West Bank</td>\n",
       "      <td>2023-09-19</td>\n",
       "      <td>M</td>\n",
       "      <td>NaN</td>\n",
       "      <td>Jenin</td>\n",
       "      <td>Jenin</td>\n",
       "      <td>gunfire</td>\n",
       "      <td>live ammunition</td>\n",
       "      <td>Israeli security forces</td>\n",
       "      <td>Wounded by soldiers’ gunfire after running awa...</td>\n",
       "    </tr>\n",
       "    <tr>\n",
       "      <th>...</th>\n",
       "      <td>...</td>\n",
       "      <td>...</td>\n",
       "      <td>...</td>\n",
       "      <td>...</td>\n",
       "      <td>...</td>\n",
       "      <td>...</td>\n",
       "      <td>...</td>\n",
       "      <td>...</td>\n",
       "      <td>...</td>\n",
       "      <td>...</td>\n",
       "      <td>...</td>\n",
       "      <td>...</td>\n",
       "      <td>...</td>\n",
       "      <td>...</td>\n",
       "      <td>...</td>\n",
       "      <td>...</td>\n",
       "    </tr>\n",
       "    <tr>\n",
       "      <th>11119</th>\n",
       "      <td>Binyamin Herling</td>\n",
       "      <td>2000-10-19</td>\n",
       "      <td>64.0</td>\n",
       "      <td>Israeli</td>\n",
       "      <td>Nablus</td>\n",
       "      <td>Nablus</td>\n",
       "      <td>West Bank</td>\n",
       "      <td>2000-10-19</td>\n",
       "      <td>M</td>\n",
       "      <td>Israelis</td>\n",
       "      <td>Kedumim</td>\n",
       "      <td>Tulkarm</td>\n",
       "      <td>gunfire</td>\n",
       "      <td>live ammunition</td>\n",
       "      <td>Palestinian civilians</td>\n",
       "      <td>Killed while hiking on Mt. Eival.</td>\n",
       "    </tr>\n",
       "    <tr>\n",
       "      <th>11120</th>\n",
       "      <td>Farid Musa 'Issa a-Nesasreh</td>\n",
       "      <td>2000-10-17</td>\n",
       "      <td>28.0</td>\n",
       "      <td>Palestinian</td>\n",
       "      <td>Beit Furik</td>\n",
       "      <td>Nablus</td>\n",
       "      <td>West Bank</td>\n",
       "      <td>2000-10-17</td>\n",
       "      <td>M</td>\n",
       "      <td>Unknown</td>\n",
       "      <td>Beit Furik</td>\n",
       "      <td>Nablus</td>\n",
       "      <td>gunfire</td>\n",
       "      <td>NaN</td>\n",
       "      <td>Israeli civilians</td>\n",
       "      <td>Killed by a settler from Itamar while harvesti...</td>\n",
       "    </tr>\n",
       "    <tr>\n",
       "      <th>11121</th>\n",
       "      <td>Hillel Lieberman</td>\n",
       "      <td>2000-10-07</td>\n",
       "      <td>36.0</td>\n",
       "      <td>Israeli</td>\n",
       "      <td>Nablus</td>\n",
       "      <td>Nablus</td>\n",
       "      <td>West Bank</td>\n",
       "      <td>2000-10-07</td>\n",
       "      <td>M</td>\n",
       "      <td>Israelis</td>\n",
       "      <td>Elon Moreh</td>\n",
       "      <td>Nablus</td>\n",
       "      <td>gunfire</td>\n",
       "      <td>live ammunition</td>\n",
       "      <td>Palestinian civilians</td>\n",
       "      <td>His body was found a day after he disappeared.</td>\n",
       "    </tr>\n",
       "    <tr>\n",
       "      <th>11122</th>\n",
       "      <td>Fahed Mustafa 'Odeh Baker</td>\n",
       "      <td>2000-10-07</td>\n",
       "      <td>21.0</td>\n",
       "      <td>Palestinian</td>\n",
       "      <td>Bidya</td>\n",
       "      <td>Salfit</td>\n",
       "      <td>West Bank</td>\n",
       "      <td>2000-10-07</td>\n",
       "      <td>M</td>\n",
       "      <td>No</td>\n",
       "      <td>Bidya</td>\n",
       "      <td>Salfit</td>\n",
       "      <td>gunfire</td>\n",
       "      <td>NaN</td>\n",
       "      <td>Israeli civilians</td>\n",
       "      <td>Killed by settlers who rioted in Biddya village.</td>\n",
       "    </tr>\n",
       "    <tr>\n",
       "      <th>11123</th>\n",
       "      <td>Wichlav Zalsevsky</td>\n",
       "      <td>2000-10-02</td>\n",
       "      <td>24.0</td>\n",
       "      <td>Israeli</td>\n",
       "      <td>Masha</td>\n",
       "      <td>Salfit</td>\n",
       "      <td>West Bank</td>\n",
       "      <td>2000-10-02</td>\n",
       "      <td>M</td>\n",
       "      <td>Israelis</td>\n",
       "      <td>Ashdod</td>\n",
       "      <td>Israel</td>\n",
       "      <td>gunfire</td>\n",
       "      <td>live ammunition</td>\n",
       "      <td>Palestinian civilians</td>\n",
       "      <td>NaN</td>\n",
       "    </tr>\n",
       "  </tbody>\n",
       "</table>\n",
       "<p>2470 rows × 16 columns</p>\n",
       "</div>"
      ],
      "text/plain": [
       "                                              name date_of_event   age  \\\n",
       "0      'Abd a-Rahman Suleiman Muhammad Abu Daghash    2023-09-24  32.0   \n",
       "1             Usayed Farhan Muhammad 'Ali Abu 'Ali    2023-09-24  21.0   \n",
       "2                 'Abdallah 'Imad Sa'ed Abu Hassan    2023-09-22  16.0   \n",
       "3                 Durgham Muhammad Yihya al-Akhras    2023-09-20  19.0   \n",
       "4                     Raafat 'Omar Ahmad Khamaisah    2023-09-19  15.0   \n",
       "...                                            ...           ...   ...   \n",
       "11119                             Binyamin Herling    2000-10-19  64.0   \n",
       "11120                  Farid Musa 'Issa a-Nesasreh    2000-10-17  28.0   \n",
       "11121                             Hillel Lieberman    2000-10-07  36.0   \n",
       "11122                    Fahed Mustafa 'Odeh Baker    2000-10-07  21.0   \n",
       "11123                            Wichlav Zalsevsky    2000-10-02  24.0   \n",
       "\n",
       "       citizenship     event_location event_location_district  \\\n",
       "0      Palestinian     Nur Shams R.C.                 Tulkarm   \n",
       "1      Palestinian     Nur Shams R.C.                 Tulkarm   \n",
       "2      Palestinian           Kfar Dan                   Jenin   \n",
       "3      Palestinian  'Aqbat Jaber R.C.                 Jericho   \n",
       "4      Palestinian         Jenin R.C.                   Jenin   \n",
       "...            ...                ...                     ...   \n",
       "11119      Israeli             Nablus                  Nablus   \n",
       "11120  Palestinian         Beit Furik                  Nablus   \n",
       "11121      Israeli             Nablus                  Nablus   \n",
       "11122  Palestinian              Bidya                  Salfit   \n",
       "11123      Israeli              Masha                  Salfit   \n",
       "\n",
       "      event_location_region date_of_death gender took_part_in_the_hostilities  \\\n",
       "0                 West Bank    2023-09-24      M                          NaN   \n",
       "1                 West Bank    2023-09-24      M                          NaN   \n",
       "2                 West Bank    2023-09-22      M                          NaN   \n",
       "3                 West Bank    2023-09-20      M                          NaN   \n",
       "4                 West Bank    2023-09-19      M                          NaN   \n",
       "...                     ...           ...    ...                          ...   \n",
       "11119             West Bank    2000-10-19      M                     Israelis   \n",
       "11120             West Bank    2000-10-17      M                      Unknown   \n",
       "11121             West Bank    2000-10-07      M                     Israelis   \n",
       "11122             West Bank    2000-10-07      M                           No   \n",
       "11123             West Bank    2000-10-02      M                     Israelis   \n",
       "\n",
       "      place_of_residence place_of_residence_district type_of_injury  \\\n",
       "0         Nur Shams R.C.                     Tulkarm        gunfire   \n",
       "1         Nur Shams R.C.                     Tulkarm        gunfire   \n",
       "2               al-Yamun                       Jenin        gunfire   \n",
       "3      'Aqbat Jaber R.C.                     Jericho        gunfire   \n",
       "4                  Jenin                       Jenin        gunfire   \n",
       "...                  ...                         ...            ...   \n",
       "11119            Kedumim                     Tulkarm        gunfire   \n",
       "11120         Beit Furik                      Nablus        gunfire   \n",
       "11121         Elon Moreh                      Nablus        gunfire   \n",
       "11122              Bidya                      Salfit        gunfire   \n",
       "11123             Ashdod                      Israel        gunfire   \n",
       "\n",
       "            ammunition                killed_by  \\\n",
       "0      live ammunition  Israeli security forces   \n",
       "1      live ammunition  Israeli security forces   \n",
       "2      live ammunition  Israeli security forces   \n",
       "3      live ammunition  Israeli security forces   \n",
       "4      live ammunition  Israeli security forces   \n",
       "...                ...                      ...   \n",
       "11119  live ammunition    Palestinian civilians   \n",
       "11120              NaN        Israeli civilians   \n",
       "11121  live ammunition    Palestinian civilians   \n",
       "11122              NaN        Israeli civilians   \n",
       "11123  live ammunition    Palestinian civilians   \n",
       "\n",
       "                                                   notes  \n",
       "0      Fatally shot by Israeli forces while standing ...  \n",
       "1      Fatally shot by Israeli forces while trying to...  \n",
       "2      Fatally shot by soldiers while firing at them ...  \n",
       "3      Shot in the head by Israeli forces while throw...  \n",
       "4      Wounded by soldiers’ gunfire after running awa...  \n",
       "...                                                  ...  \n",
       "11119                  Killed while hiking on Mt. Eival.  \n",
       "11120  Killed by a settler from Itamar while harvesti...  \n",
       "11121     His body was found a day after he disappeared.  \n",
       "11122   Killed by settlers who rioted in Biddya village.  \n",
       "11123                                                NaN  \n",
       "\n",
       "[2470 rows x 16 columns]"
      ]
     },
     "execution_count": 14,
     "metadata": {},
     "output_type": "execute_result"
    }
   ],
   "source": [
    "df[(df['event_location_region']=='West Bank') & (df['type_of_injury']=='gunfire')]"
   ]
  },
  {
   "cell_type": "code",
   "execution_count": 15,
   "id": "6b0a0561",
   "metadata": {},
   "outputs": [
    {
     "data": {
      "text/html": [
       "<div>\n",
       "<style scoped>\n",
       "    .dataframe tbody tr th:only-of-type {\n",
       "        vertical-align: middle;\n",
       "    }\n",
       "\n",
       "    .dataframe tbody tr th {\n",
       "        vertical-align: top;\n",
       "    }\n",
       "\n",
       "    .dataframe thead th {\n",
       "        text-align: right;\n",
       "    }\n",
       "</style>\n",
       "<table border=\"1\" class=\"dataframe\">\n",
       "  <thead>\n",
       "    <tr style=\"text-align: right;\">\n",
       "      <th></th>\n",
       "      <th>gender</th>\n",
       "      <th>incident_count</th>\n",
       "    </tr>\n",
       "  </thead>\n",
       "  <tbody>\n",
       "    <tr>\n",
       "      <th>0</th>\n",
       "      <td>F</td>\n",
       "      <td>1423</td>\n",
       "    </tr>\n",
       "    <tr>\n",
       "      <th>1</th>\n",
       "      <td>M</td>\n",
       "      <td>9681</td>\n",
       "    </tr>\n",
       "  </tbody>\n",
       "</table>\n",
       "</div>"
      ],
      "text/plain": [
       "  gender  incident_count\n",
       "0      F            1423\n",
       "1      M            9681"
      ]
     },
     "execution_count": 15,
     "metadata": {},
     "output_type": "execute_result"
    }
   ],
   "source": [
    "# df.groupby('gender').size().reset_index(name='incident_count')\n",
    "df.groupby('gender').size().reset_index(name='incident_count')"
   ]
  },
  {
   "cell_type": "code",
   "execution_count": 16,
   "id": "932adc12",
   "metadata": {},
   "outputs": [
    {
     "data": {
      "text/plain": [
       "gender\n",
       "F    45.0\n",
       "M    47.0\n",
       "Name: age, dtype: float64"
      ]
     },
     "execution_count": 16,
     "metadata": {},
     "output_type": "execute_result"
    }
   ],
   "source": [
    "df[(df['citizenship'] == 'Palestinian') & (df['type_of_injury'] == 'stones throwing')].groupby('gender')['age'].mean()"
   ]
  },
  {
   "cell_type": "code",
   "execution_count": 17,
   "id": "4df9a6fb",
   "metadata": {},
   "outputs": [
    {
     "data": {
      "text/html": [
       "<div>\n",
       "<style scoped>\n",
       "    .dataframe tbody tr th:only-of-type {\n",
       "        vertical-align: middle;\n",
       "    }\n",
       "\n",
       "    .dataframe tbody tr th {\n",
       "        vertical-align: top;\n",
       "    }\n",
       "\n",
       "    .dataframe thead th {\n",
       "        text-align: right;\n",
       "    }\n",
       "</style>\n",
       "<table border=\"1\" class=\"dataframe\">\n",
       "  <thead>\n",
       "    <tr style=\"text-align: right;\">\n",
       "      <th></th>\n",
       "      <th>year</th>\n",
       "      <th>month</th>\n",
       "      <th>incident_count</th>\n",
       "      <th>year_month</th>\n",
       "    </tr>\n",
       "  </thead>\n",
       "  <tbody>\n",
       "    <tr>\n",
       "      <th>0</th>\n",
       "      <td>2000</td>\n",
       "      <td>December</td>\n",
       "      <td>10</td>\n",
       "      <td>December 2000</td>\n",
       "    </tr>\n",
       "    <tr>\n",
       "      <th>1</th>\n",
       "      <td>2000</td>\n",
       "      <td>November</td>\n",
       "      <td>17</td>\n",
       "      <td>November 2000</td>\n",
       "    </tr>\n",
       "    <tr>\n",
       "      <th>2</th>\n",
       "      <td>2000</td>\n",
       "      <td>October</td>\n",
       "      <td>8</td>\n",
       "      <td>October 2000</td>\n",
       "    </tr>\n",
       "    <tr>\n",
       "      <th>3</th>\n",
       "      <td>2001</td>\n",
       "      <td>April</td>\n",
       "      <td>4</td>\n",
       "      <td>April 2001</td>\n",
       "    </tr>\n",
       "    <tr>\n",
       "      <th>4</th>\n",
       "      <td>2001</td>\n",
       "      <td>August</td>\n",
       "      <td>26</td>\n",
       "      <td>August 2001</td>\n",
       "    </tr>\n",
       "    <tr>\n",
       "      <th>...</th>\n",
       "      <td>...</td>\n",
       "      <td>...</td>\n",
       "      <td>...</td>\n",
       "      <td>...</td>\n",
       "    </tr>\n",
       "    <tr>\n",
       "      <th>262</th>\n",
       "      <td>2023</td>\n",
       "      <td>July</td>\n",
       "      <td>25</td>\n",
       "      <td>July 2023</td>\n",
       "    </tr>\n",
       "    <tr>\n",
       "      <th>263</th>\n",
       "      <td>2023</td>\n",
       "      <td>June</td>\n",
       "      <td>24</td>\n",
       "      <td>June 2023</td>\n",
       "    </tr>\n",
       "    <tr>\n",
       "      <th>264</th>\n",
       "      <td>2023</td>\n",
       "      <td>March</td>\n",
       "      <td>25</td>\n",
       "      <td>March 2023</td>\n",
       "    </tr>\n",
       "    <tr>\n",
       "      <th>265</th>\n",
       "      <td>2023</td>\n",
       "      <td>May</td>\n",
       "      <td>53</td>\n",
       "      <td>May 2023</td>\n",
       "    </tr>\n",
       "    <tr>\n",
       "      <th>266</th>\n",
       "      <td>2023</td>\n",
       "      <td>September</td>\n",
       "      <td>13</td>\n",
       "      <td>September 2023</td>\n",
       "    </tr>\n",
       "  </tbody>\n",
       "</table>\n",
       "<p>267 rows × 4 columns</p>\n",
       "</div>"
      ],
      "text/plain": [
       "     year      month  incident_count      year_month\n",
       "0    2000   December              10   December 2000\n",
       "1    2000   November              17   November 2000\n",
       "2    2000    October               8    October 2000\n",
       "3    2001      April               4      April 2001\n",
       "4    2001     August              26     August 2001\n",
       "..    ...        ...             ...             ...\n",
       "262  2023       July              25       July 2023\n",
       "263  2023       June              24       June 2023\n",
       "264  2023      March              25      March 2023\n",
       "265  2023        May              53        May 2023\n",
       "266  2023  September              13  September 2023\n",
       "\n",
       "[267 rows x 4 columns]"
      ]
     },
     "execution_count": 17,
     "metadata": {},
     "output_type": "execute_result"
    }
   ],
   "source": [
    "import seaborn as sns\n",
    "# Time-based analysis (events at specific times)\n",
    "df['date_of_event'] = pd.to_datetime(df['date_of_event'])\n",
    "df['year'] = df['date_of_event'].dt.year\n",
    "df['month'] = df['date_of_event'].dt.month_name()  # Format month as month name\n",
    "time_events = df.groupby(['year', 'month']).size().reset_index(name='incident_count')\n",
    "time_events['year_month'] = time_events['month'] + ' ' + time_events['year'].astype(str)\n",
    "time_events"
   ]
  },
  {
   "cell_type": "code",
   "execution_count": 18,
   "id": "54ed3c22",
   "metadata": {
    "scrolled": true
   },
   "outputs": [
    {
     "data": {
      "text/plain": [
       "<AxesSubplot: xlabel='citizenship'>"
      ]
     },
     "execution_count": 18,
     "metadata": {},
     "output_type": "execute_result"
    },
    {
     "data": {
      "image/png": "[encoded data removed]",
      "text/plain": [
       "<Figure size 640x480 with 1 Axes>"
      ]
     },
     "metadata": {},
     "output_type": "display_data"
    }
   ],
   "source": [
    "# Calculate average age for female (F) citizens\n",
    "female_age = pd.pivot_table(df[df['gender'] == 'F'], values='age', index=['citizenship'], aggfunc='mean')\n",
    "female_age.plot(kind='bar')"
   ]
  },
  {
   "cell_type": "code",
   "execution_count": 19,
   "id": "65a77bb0",
   "metadata": {},
   "outputs": [
    {
     "data": {
      "text/plain": [
       "<AxesSubplot: xlabel='citizenship'>"
      ]
     },
     "execution_count": 19,
     "metadata": {},
     "output_type": "execute_result"
    },
    {
     "data": {
      "image/png": "[encoded data removed]",
      "text/plain": [
       "<Figure size 640x480 with 1 Axes>"
      ]
     },
     "metadata": {},
     "output_type": "display_data"
    }
   ],
   "source": [
    "# Calculate average age for male (M) citizens\n",
    "male_age = pd.pivot_table(df[df['gender'] == 'M'], values='age', index=['citizenship'], aggfunc='mean')\n",
    "male_age.plot(kind='bar')"
   ]
  },
  {
   "cell_type": "code",
   "execution_count": 20,
   "id": "64e89d59",
   "metadata": {},
   "outputs": [
    {
     "data": {
      "text/html": [
       "<div>\n",
       "<style scoped>\n",
       "    .dataframe tbody tr th:only-of-type {\n",
       "        vertical-align: middle;\n",
       "    }\n",
       "\n",
       "    .dataframe tbody tr th {\n",
       "        vertical-align: top;\n",
       "    }\n",
       "\n",
       "    .dataframe thead th {\n",
       "        text-align: right;\n",
       "    }\n",
       "</style>\n",
       "<table border=\"1\" class=\"dataframe\">\n",
       "  <thead>\n",
       "    <tr style=\"text-align: right;\">\n",
       "      <th></th>\n",
       "      <th>citizenship</th>\n",
       "      <th>gender</th>\n",
       "      <th>type_of_injury</th>\n",
       "    </tr>\n",
       "  </thead>\n",
       "  <tbody>\n",
       "    <tr>\n",
       "      <th>73</th>\n",
       "      <td>Palestinian</td>\n",
       "      <td>F</td>\n",
       "      <td>gunfire</td>\n",
       "    </tr>\n",
       "    <tr>\n",
       "      <th>114</th>\n",
       "      <td>Palestinian</td>\n",
       "      <td>F</td>\n",
       "      <td>gunfire</td>\n",
       "    </tr>\n",
       "    <tr>\n",
       "      <th>121</th>\n",
       "      <td>Palestinian</td>\n",
       "      <td>F</td>\n",
       "      <td>gunfire</td>\n",
       "    </tr>\n",
       "    <tr>\n",
       "      <th>122</th>\n",
       "      <td>Palestinian</td>\n",
       "      <td>F</td>\n",
       "      <td>gunfire</td>\n",
       "    </tr>\n",
       "    <tr>\n",
       "      <th>124</th>\n",
       "      <td>Palestinian</td>\n",
       "      <td>F</td>\n",
       "      <td>gunfire</td>\n",
       "    </tr>\n",
       "    <tr>\n",
       "      <th>...</th>\n",
       "      <td>...</td>\n",
       "      <td>...</td>\n",
       "      <td>...</td>\n",
       "    </tr>\n",
       "    <tr>\n",
       "      <th>10923</th>\n",
       "      <td>Palestinian</td>\n",
       "      <td>F</td>\n",
       "      <td>gunfire</td>\n",
       "    </tr>\n",
       "    <tr>\n",
       "      <th>10928</th>\n",
       "      <td>Palestinian</td>\n",
       "      <td>F</td>\n",
       "      <td>gunfire</td>\n",
       "    </tr>\n",
       "    <tr>\n",
       "      <th>10937</th>\n",
       "      <td>Palestinian</td>\n",
       "      <td>F</td>\n",
       "      <td>gunfire</td>\n",
       "    </tr>\n",
       "    <tr>\n",
       "      <th>10939</th>\n",
       "      <td>Palestinian</td>\n",
       "      <td>F</td>\n",
       "      <td>gunfire</td>\n",
       "    </tr>\n",
       "    <tr>\n",
       "      <th>10949</th>\n",
       "      <td>Palestinian</td>\n",
       "      <td>F</td>\n",
       "      <td>gunfire</td>\n",
       "    </tr>\n",
       "  </tbody>\n",
       "</table>\n",
       "<p>1040 rows × 3 columns</p>\n",
       "</div>"
      ],
      "text/plain": [
       "       citizenship gender type_of_injury\n",
       "73     Palestinian      F        gunfire\n",
       "114    Palestinian      F        gunfire\n",
       "121    Palestinian      F        gunfire\n",
       "122    Palestinian      F        gunfire\n",
       "124    Palestinian      F        gunfire\n",
       "...            ...    ...            ...\n",
       "10923  Palestinian      F        gunfire\n",
       "10928  Palestinian      F        gunfire\n",
       "10937  Palestinian      F        gunfire\n",
       "10939  Palestinian      F        gunfire\n",
       "10949  Palestinian      F        gunfire\n",
       "\n",
       "[1040 rows x 3 columns]"
      ]
     },
     "execution_count": 20,
     "metadata": {},
     "output_type": "execute_result"
    }
   ],
   "source": [
    "df[(df['citizenship'] == 'Palestinian') & (df['gender'] == 'F') & (df['type_of_injury'] == 'gunfire')] [['citizenship','gender','type_of_injury']]\n"
   ]
  },
  {
   "cell_type": "code",
   "execution_count": null,
   "id": "d7d9bcd3",
   "metadata": {},
   "outputs": [],
   "source": []
  }
 ],
 "metadata": {
  "kernelspec": {
   "display_name": "Python 3 (ipykernel)",
   "language": "python",
   "name": "python3"
  },
  "language_info": {
   "codemirror_mode": {
    "name": "ipython",
    "version": 3
   },
   "file_extension": ".py",
   "mimetype": "text/x-python",
   "name": "python",
   "nbconvert_exporter": "python",
   "pygments_lexer": "ipython3",
   "version": "3.10.5"
  }
 },
 "nbformat": 4,
 "nbformat_minor": 5
}
